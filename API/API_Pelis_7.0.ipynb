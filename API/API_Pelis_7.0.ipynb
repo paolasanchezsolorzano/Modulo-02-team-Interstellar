{
 "cells": [
  {
   "cell_type": "code",
   "execution_count": null,
   "metadata": {},
   "outputs": [],
   "source": [
    "# Importamos las bibliotecas necesarias para manejar datos, hacer peticiones web y controlar el tiempo.\n",
    "import re\n",
    "import pandas as pd\n",
    "import requests\n",
    "import time"
   ]
  },
  {
   "cell_type": "code",
   "execution_count": null,
   "metadata": {},
   "outputs": [],
   "source": [
    "# Configuración inicial para usar en las clases.\n",
    "genres = [\"Drama\"]\n",
    "start_year = 2010\n",
    "end_year = 2025\n",
    "headers = {\n",
    "#\"X-RapidAPI-Key\":\"2a71737446mshd130aebe5b852b0p1d4674jsn1c93e1eccde5\", #Mábel1\n",
    "#\"X-RapidAPI-Key\":\"8ce0139101msh32b3fde4a9a06cep1a18ddjsneec758e62128\", #Mábel2\n",
    "#\"X-RapidAPI-Key\":\"af196f0478mshd90862dc657e127p18d90bjsn598fe178eab7\", #Mábel3\n",
    "#\"X-RapidAPI-Key\":\"7afebd53f4msh5a5378a53b56ed5p11796bjsn19ceecfe1a26\", #Marga1\n",
    "#\"X-RapidAPI-Key\":\"431e779057msh1f0c87c2937a329p125efcjsn45064e4b4925\", #Marga2\n",
    "#\"X-RapidAPI-Key\":\"2a71737446mshd130aebe5b852b0p1d4674jsn1c93e1eccde5\", #Marga3\n",
    "#\"X-RapidAPI-Key\":\"c5dae3bc7cmsh99f5150b0f14271p1276dfjsne7487416c47c\", #Gloria1\n",
    "#\"X-RapidAPI-Key\":\"b0262d2945msh1f1577867db30c6p12fca9jsnc5eb4666d6bb\", #Gloria2\n",
    "\"X-RapidAPI-Key\":\"1ef9312677msh54e21139cb02deap1a8f37jsn53623375f3fe\", #Paola1\n",
    "#\"X-RapidAPI-Key\": \"28a3c3ab32msha5ca6e00170b6c7p197d01jsn44c7f725210a\", #Paola2\n",
    "#\"X-RapidAPI-Key\":\"2583d39c0emshe321f51d17d9328p10cfb0jsn38ed4dc93da2\", #Silvia1\n",
    "#\"X-RapidAPI-Key\":\"47608e078dmsha9428889aafcc0ap1afc77jsn6e04b24d521c\", #Silvia2\n",
    "\"X-RapidAPI-Host\":\"moviesdatabase.p.rapidapi.com\"\n",
    "}"
   ]
  },
  {
   "cell_type": "code",
   "execution_count": null,
   "metadata": {},
   "outputs": [],
   "source": [
    "# Definimos una clase para manejar la recogida de datos de películas.\n",
    "class MovieData:\n",
    "    # Función inicial para configurar los parámetros básicos.\n",
    "    def __init__(self, headers, genres, start_year, end_year):\n",
    "        self.headers = headers  # Información para acceder a la API.\n",
    "        self.genres = genres  # Tipos de películas que queremos buscar.\n",
    "        self.start_year = start_year  # Año inicial.\n",
    "        self.end_year = end_year  # Año final.\n",
    "        self.sleep_time = 2  # Tiempo de espera inicial cuando la API limita las peticiones.\n",
    "\n",
    "    # Función para buscar las películas en la API.\n",
    "    def fetch_movies(self):\n",
    "        movies_list = []  # Lista vacía para guardar los datos de las películas.\n",
    "        # Bucles anidados para iterar por género, año y página.\n",
    "        for genre in self.genres:\n",
    "            for year in range(self.start_year, self.end_year + 1):\n",
    "                for pagina in range(1, 51):\n",
    "                    success = False  # Control para saber si la petición fue exitosa.\n",
    "                    intentos = 0  # Contador de intentos de la petición.\n",
    "                    while not success and intentos < 5:  # Si no es exitoso y tiene menos de 5 intentos.\n",
    "                        url = f\"https://moviesdatabase.p.rapidapi.com/titles?year={year}&genre={genre}&page={pagina}&limit=50\"\n",
    "                        response = requests.get(url, headers=self.headers)  # Hacemos la petición a la API.\n",
    "                        # Comprobamos el código de estado de la respuesta.\n",
    "                        if response.status_code == 200:\n",
    "                            movies_data = response.json()[\"results\"]  # Obtenemos los datos.\n",
    "                            movies_list.extend(self.process_results(movies_data, genre))  # Procesamos y añadimos a la lista.\n",
    "                            print(f\"Recibiendo datos de {genre} en {year}, página {pagina}\")\n",
    "                            success = True  # Marcamos como exitoso.\n",
    "                        elif response.status_code == 429:\n",
    "                            print(\"Durmiendo... Demasiadas peticiones.\")  # La API limita por demasiadas peticiones.\n",
    "                            time.sleep(self.sleep_time * (2 ** intentos))  # Esperamos más tiempo en cada intento.\n",
    "                            intentos += 1  # Incrementamos el contador de intentos.\n",
    "                        else:\n",
    "                            sms_error = response.json().get(\"error\")  # Obtenemos mensaje de error.\n",
    "                            print(f\"Error tipo: {sms_error}\")\n",
    "                            break  # Salimos del bucle si hay otro tipo de error.\n",
    "                        print(\"✅\")\n",
    "        return movies_list  # Devolvemos la lista de películas.\n",
    "\n",
    "    # Función para procesar los datos obtenidos.\n",
    "    def process_results(self, movies_data, genre):\n",
    "        genre_movies = []  # Lista para guardar películas de un género.\n",
    "        for data in movies_data:\n",
    "            # Filtramos por tipo de título.\n",
    "            if data[\"titleType\"][\"text\"] in [\"Movie\", \"Short\"]:\n",
    "                release_date = data.get(\"releaseDate\")\n",
    "                # Comprobamos que exista fecha de lanzamiento.\n",
    "                if release_date and release_date.get(\"year\") and release_date.get(\"month\"):\n",
    "                    movie_info = (\n",
    "                        release_date.get(\"month\"),\n",
    "                        genre,\n",
    "                        data[\"titleType\"][\"text\"],\n",
    "                        data[\"titleText\"][\"text\"],\n",
    "                        release_date.get(\"year\"),\n",
    "                        data[\"id\"]\n",
    "                    )\n",
    "                    genre_movies.append(movie_info)  # Añadimos la info a la lista.\n",
    "        return genre_movies  # Devolvemos las películas de un género.\n",
    "\n",
    "# Clase para procesar y guardar los datos de las películas.\n",
    "class MovieDataProcessor:\n",
    "    def __init__(self, movies_list):\n",
    "        self.movies_list = movies_list  # Lista de películas.\n",
    "\n",
    "    # Función para convertir la lista en un dataframe.\n",
    "    def to_dataframe(self):\n",
    "        df = pd.DataFrame(self.movies_list, columnsy=[\"IMDB_ID\", \"Type\", \"Genre\", \"Movie_Title\", \"Release_Month\", \"Year\"])\n",
    "        return df  # Devolvemos el dataframe.\n",
    "\n",
    "    # Función para guardar el dataframe en un archivo CSV.\n",
    "    def save_to_csv(self, filename):\n",
    "        df = self.to_dataframe()  # Obtenemos el dataframe.\n",
    "        df.to_csv(filename, index=False)  # Guardamos el archivo sin índice."
   ]
  },
  {
   "cell_type": "code",
   "execution_count": null,
   "metadata": {},
   "outputs": [],
   "source": [
    "# Crear instancias de las clases y usarlas.\n",
    "recoleccion = MovieData(headers, genres, start_year, end_year)\n",
    "movies = recoleccion.fetch_movies()\n",
    "infiniteplay = MovieDataProcessor(movies)"
   ]
  },
  {
   "cell_type": "code",
   "execution_count": null,
   "metadata": {},
   "outputs": [],
   "source": [
    "# Crea el archivo CSV.\n",
    "infiniteplay.save_to_csv(f'Películas_{genres}_{start_year}-{end_year}.csv')"
   ]
  }
 ],
 "metadata": {
  "kernelspec": {
   "display_name": "base",
   "language": "python",
   "name": "python3"
  },
  "language_info": {
   "codemirror_mode": {
    "name": "ipython",
    "version": 3
   },
   "file_extension": ".py",
   "mimetype": "text/x-python",
   "name": "python",
   "nbconvert_exporter": "python",
   "pygments_lexer": "ipython3",
   "version": "3.9.7"
  }
 },
 "nbformat": 4,
 "nbformat_minor": 2
}
