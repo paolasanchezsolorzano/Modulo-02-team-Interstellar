{
 "cells": [
  {
   "cell_type": "code",
   "execution_count": 7,
   "metadata": {},
   "outputs": [],
   "source": [
    "from selenium import webdriver\n",
    "from selenium.webdriver.common.keys import Keys\n",
    "from selenium.common.exceptions import NoSuchElementException\n",
    "from time import sleep\n",
    "import csv\n",
    "from tqdm import tqdm\n",
    "import pandas as pd\n"
   ]
  },
  {
   "cell_type": "code",
   "execution_count": 8,
   "metadata": {},
   "outputs": [],
   "source": [
    "# Importamos el csv de  para extraer los titulos y llamar a la funcion\n",
    "original_list_csv =pd.read_csv(r\"C:\\Users\\Jordy_000\\Desktop\\ADALAB\\Ejercicios_clases(pair,invertidas,exam)\\modulo-2\\proyecto\\API\\CSVs\\resultados_datos_fase2.csv\") \n"
   ]
  },
  {
   "cell_type": "code",
   "execution_count": 9,
   "metadata": {},
   "outputs": [
    {
     "name": "stdout",
     "output_type": "stream",
     "text": [
      "Index(['Nombre', 'Director', 'Guionista', 'Argumento', 'Duración',\n",
      "       'Puntuación IMDb', 'ID_Pelicula'],\n",
      "      dtype='object')\n"
     ]
    }
   ],
   "source": [
    "print(original_list_csv.columns)"
   ]
  },
  {
   "cell_type": "code",
   "execution_count": 10,
   "metadata": {},
   "outputs": [],
   "source": [
    "# Extraemos los titulos y posteriormente los convertiremos a una lista\n",
    "\n",
    "Titles= original_list_csv[\"Nombre\"] \n"
   ]
  },
  {
   "cell_type": "code",
   "execution_count": 11,
   "metadata": {},
   "outputs": [],
   "source": [
    "#convierto en listas\n",
    "\n",
    "list_Titles= Titles.to_list()\n"
   ]
  },
  {
   "cell_type": "code",
   "execution_count": 35,
   "metadata": {},
   "outputs": [],
   "source": [
    "def tomatometer(list_Titles):\n",
    "    # Initialize an empty list to store movie titles and their Tomatometer scores\n",
    "    list_tuple_tomatoes = []\n",
    "    \n",
    "    # Set up a Chrome WebDriver\n",
    "    driver = webdriver.Chrome()\n",
    "    driver.maximize_window()\n",
    "    driver.get(\"https://www.google.com/\")\n",
    "    driver.find_element(\"css selector\", '#L2AGLb > div').click()  # Click the \"I agree\" button for cookie consent\n",
    "    \n",
    "    # Process each movie title\n",
    "    for Title in tqdm(list_Titles):\n",
    "        sleep(3)\n",
    "        search_google = Title + ' Tomatometer'  # Construct search query\n",
    "        sleep(3)\n",
    "        search1 = driver.find_element(\"css selector\", '#APjFqb')\n",
    "        sleep(3)\n",
    "        search1.clear()\n",
    "        search1.send_keys(search_google,Keys.ENTER)  # Perform Google search\n",
    "        sleep(5)\n",
    "       \n",
    "        try:\n",
    "            # Extract Tomatometer score from search results \n",
    "            result1 = driver.find_element(\"css selector\", '#rso > div:nth-child(1) > div > div > div > div:nth-child(3) > div > span:nth-child(2)').text\n",
    "            tomatometer = result1.replace('Valoración', '').strip('%').replace(':','')\n",
    "        except:\n",
    "            tomatometer = 'Null'  # Assign \"Null\" if score extraction fails\n",
    "                    \n",
    "        # Create a tuple with movie title and its Tomatometer score\n",
    "        tuple_movie = (Title, tomatometer)\n",
    "        list_tuple_tomatoes.append(tuple_movie)\n",
    "        for tuple in list_tuple_tomatoes:\n",
    "            print(tuple, end=\"\\n\")\n",
    "       \n",
    "       \n",
    "    # Close the WebDriver\n",
    "    driver.close()\n",
    "    \n",
    "    # Create a Pandas DataFrame and save it to a CSV file\n",
    "    df = pd.DataFrame(list_tuple_tomatoes, columns=['Title', 'Score'])\n",
    "    df.to_csv(\"list_tuple_tomates.csv\", index=False)"
   ]
  },
  {
   "cell_type": "code",
   "execution_count": 36,
   "metadata": {},
   "outputs": [
    {
     "name": "stderr",
     "output_type": "stream",
     "text": [
      "  0%|          | 1/1000 [00:14<4:06:01, 14.78s/it]"
     ]
    },
    {
     "name": "stdout",
     "output_type": "stream",
     "text": [
      "('The Red, Black and Blonde: God $ave', 'Null')\n"
     ]
    },
    {
     "name": "stderr",
     "output_type": "stream",
     "text": [
      "  0%|          | 2/1000 [00:29<4:03:16, 14.63s/it]"
     ]
    },
    {
     "name": "stdout",
     "output_type": "stream",
     "text": [
      "('The Red, Black and Blonde: God $ave', 'Null')\n",
      "('The Last Demon Slayer', ' 87')\n"
     ]
    },
    {
     "name": "stderr",
     "output_type": "stream",
     "text": [
      "  0%|          | 3/1000 [00:44<4:08:21, 14.95s/it]"
     ]
    },
    {
     "name": "stdout",
     "output_type": "stream",
     "text": [
      "('The Red, Black and Blonde: God $ave', 'Null')\n",
      "('The Last Demon Slayer', ' 87')\n",
      "('Martinelli a Star Wars Fan Story', 'Null')\n"
     ]
    },
    {
     "name": "stderr",
     "output_type": "stream",
     "text": [
      "  0%|          | 4/1000 [00:59<4:05:38, 14.80s/it]"
     ]
    },
    {
     "name": "stdout",
     "output_type": "stream",
     "text": [
      "('The Red, Black and Blonde: God $ave', 'Null')\n",
      "('The Last Demon Slayer', ' 87')\n",
      "('Martinelli a Star Wars Fan Story', 'Null')\n",
      "('2 Duros de Roer', ' 44')\n"
     ]
    },
    {
     "name": "stderr",
     "output_type": "stream",
     "text": [
      "  0%|          | 5/1000 [01:14<4:07:50, 14.95s/it]"
     ]
    },
    {
     "name": "stdout",
     "output_type": "stream",
     "text": [
      "('The Red, Black and Blonde: God $ave', 'Null')\n",
      "('The Last Demon Slayer', ' 87')\n",
      "('Martinelli a Star Wars Fan Story', 'Null')\n",
      "('2 Duros de Roer', ' 44')\n",
      "('Robin Hood', ' 14')\n"
     ]
    },
    {
     "name": "stderr",
     "output_type": "stream",
     "text": [
      "  1%|          | 6/1000 [01:29<4:05:38, 14.83s/it]"
     ]
    },
    {
     "name": "stdout",
     "output_type": "stream",
     "text": [
      "('The Red, Black and Blonde: God $ave', 'Null')\n",
      "('The Last Demon Slayer', ' 87')\n",
      "('Martinelli a Star Wars Fan Story', 'Null')\n",
      "('2 Duros de Roer', ' 44')\n",
      "('Robin Hood', ' 14')\n",
      "('Xzee vs OTTWitt', 'Null')\n"
     ]
    },
    {
     "name": "stderr",
     "output_type": "stream",
     "text": [
      "  1%|          | 7/1000 [01:43<4:03:24, 14.71s/it]"
     ]
    },
    {
     "name": "stdout",
     "output_type": "stream",
     "text": [
      "('The Red, Black and Blonde: God $ave', 'Null')\n",
      "('The Last Demon Slayer', ' 87')\n",
      "('Martinelli a Star Wars Fan Story', 'Null')\n",
      "('2 Duros de Roer', ' 44')\n",
      "('Robin Hood', ' 14')\n",
      "('Xzee vs OTTWitt', 'Null')\n",
      "('Chhadke 2.0', ' 55')\n"
     ]
    },
    {
     "name": "stderr",
     "output_type": "stream",
     "text": [
      "  1%|          | 8/1000 [01:57<4:01:36, 14.61s/it]"
     ]
    },
    {
     "name": "stdout",
     "output_type": "stream",
     "text": [
      "('The Red, Black and Blonde: God $ave', 'Null')\n",
      "('The Last Demon Slayer', ' 87')\n",
      "('Martinelli a Star Wars Fan Story', 'Null')\n",
      "('2 Duros de Roer', ' 44')\n",
      "('Robin Hood', ' 14')\n",
      "('Xzee vs OTTWitt', 'Null')\n",
      "('Chhadke 2.0', ' 55')\n",
      "('Payphone', ' 72')\n"
     ]
    },
    {
     "name": "stderr",
     "output_type": "stream",
     "text": [
      "  1%|          | 9/1000 [02:12<4:01:35, 14.63s/it]"
     ]
    },
    {
     "name": "stdout",
     "output_type": "stream",
     "text": [
      "('The Red, Black and Blonde: God $ave', 'Null')\n",
      "('The Last Demon Slayer', ' 87')\n",
      "('Martinelli a Star Wars Fan Story', 'Null')\n",
      "('2 Duros de Roer', ' 44')\n",
      "('Robin Hood', ' 14')\n",
      "('Xzee vs OTTWitt', 'Null')\n",
      "('Chhadke 2.0', ' 55')\n",
      "('Payphone', ' 72')\n",
      "('Cult Wars: Episode III - Sith Hits the Fan', ' 79')\n"
     ]
    },
    {
     "name": "stderr",
     "output_type": "stream",
     "text": [
      "  1%|          | 10/1000 [02:27<4:01:28, 14.63s/it]"
     ]
    },
    {
     "name": "stdout",
     "output_type": "stream",
     "text": [
      "('The Red, Black and Blonde: God $ave', 'Null')\n",
      "('The Last Demon Slayer', ' 87')\n",
      "('Martinelli a Star Wars Fan Story', 'Null')\n",
      "('2 Duros de Roer', ' 44')\n",
      "('Robin Hood', ' 14')\n",
      "('Xzee vs OTTWitt', 'Null')\n",
      "('Chhadke 2.0', ' 55')\n",
      "('Payphone', ' 72')\n",
      "('Cult Wars: Episode III - Sith Hits the Fan', ' 79')\n",
      "('La pièce rapportée', ' 58')\n"
     ]
    },
    {
     "name": "stderr",
     "output_type": "stream",
     "text": [
      "  1%|          | 11/1000 [02:41<3:59:53, 14.55s/it]"
     ]
    },
    {
     "name": "stdout",
     "output_type": "stream",
     "text": [
      "('The Red, Black and Blonde: God $ave', 'Null')\n",
      "('The Last Demon Slayer', ' 87')\n",
      "('Martinelli a Star Wars Fan Story', 'Null')\n",
      "('2 Duros de Roer', ' 44')\n",
      "('Robin Hood', ' 14')\n",
      "('Xzee vs OTTWitt', 'Null')\n",
      "('Chhadke 2.0', ' 55')\n",
      "('Payphone', ' 72')\n",
      "('Cult Wars: Episode III - Sith Hits the Fan', ' 79')\n",
      "('La pièce rapportée', ' 58')\n",
      "('Babbar', 'Null')\n"
     ]
    },
    {
     "name": "stderr",
     "output_type": "stream",
     "text": [
      "  1%|          | 12/1000 [02:55<3:58:45, 14.50s/it]"
     ]
    },
    {
     "name": "stdout",
     "output_type": "stream",
     "text": [
      "('The Red, Black and Blonde: God $ave', 'Null')\n",
      "('The Last Demon Slayer', ' 87')\n",
      "('Martinelli a Star Wars Fan Story', 'Null')\n",
      "('2 Duros de Roer', ' 44')\n",
      "('Robin Hood', ' 14')\n",
      "('Xzee vs OTTWitt', 'Null')\n",
      "('Chhadke 2.0', ' 55')\n",
      "('Payphone', ' 72')\n",
      "('Cult Wars: Episode III - Sith Hits the Fan', ' 79')\n",
      "('La pièce rapportée', ' 58')\n",
      "('Babbar', 'Null')\n",
      "('La vicina', ' 56')\n"
     ]
    },
    {
     "name": "stderr",
     "output_type": "stream",
     "text": [
      "  1%|▏         | 13/1000 [03:10<3:57:44, 14.45s/it]"
     ]
    },
    {
     "name": "stdout",
     "output_type": "stream",
     "text": [
      "('The Red, Black and Blonde: God $ave', 'Null')\n",
      "('The Last Demon Slayer', ' 87')\n",
      "('Martinelli a Star Wars Fan Story', 'Null')\n",
      "('2 Duros de Roer', ' 44')\n",
      "('Robin Hood', ' 14')\n",
      "('Xzee vs OTTWitt', 'Null')\n",
      "('Chhadke 2.0', ' 55')\n",
      "('Payphone', ' 72')\n",
      "('Cult Wars: Episode III - Sith Hits the Fan', ' 79')\n",
      "('La pièce rapportée', ' 58')\n",
      "('Babbar', 'Null')\n",
      "('La vicina', ' 56')\n",
      "('Lurk', 'Null')\n"
     ]
    },
    {
     "name": "stderr",
     "output_type": "stream",
     "text": [
      "  1%|▏         | 14/1000 [03:25<4:00:20, 14.62s/it]"
     ]
    },
    {
     "name": "stdout",
     "output_type": "stream",
     "text": [
      "('The Red, Black and Blonde: God $ave', 'Null')\n",
      "('The Last Demon Slayer', ' 87')\n",
      "('Martinelli a Star Wars Fan Story', 'Null')\n",
      "('2 Duros de Roer', ' 44')\n",
      "('Robin Hood', ' 14')\n",
      "('Xzee vs OTTWitt', 'Null')\n",
      "('Chhadke 2.0', ' 55')\n",
      "('Payphone', ' 72')\n",
      "('Cult Wars: Episode III - Sith Hits the Fan', ' 79')\n",
      "('La pièce rapportée', ' 58')\n",
      "('Babbar', 'Null')\n",
      "('La vicina', ' 56')\n",
      "('Lurk', 'Null')\n",
      "('Projekt Adler - Ein letzter Job', 'Null')\n"
     ]
    },
    {
     "name": "stderr",
     "output_type": "stream",
     "text": [
      "  2%|▏         | 15/1000 [03:40<4:03:28, 14.83s/it]"
     ]
    },
    {
     "name": "stdout",
     "output_type": "stream",
     "text": [
      "('The Red, Black and Blonde: God $ave', 'Null')\n",
      "('The Last Demon Slayer', ' 87')\n",
      "('Martinelli a Star Wars Fan Story', 'Null')\n",
      "('2 Duros de Roer', ' 44')\n",
      "('Robin Hood', ' 14')\n",
      "('Xzee vs OTTWitt', 'Null')\n",
      "('Chhadke 2.0', ' 55')\n",
      "('Payphone', ' 72')\n",
      "('Cult Wars: Episode III - Sith Hits the Fan', ' 79')\n",
      "('La pièce rapportée', ' 58')\n",
      "('Babbar', 'Null')\n",
      "('La vicina', ' 56')\n",
      "('Lurk', 'Null')\n",
      "('Projekt Adler - Ein letzter Job', 'Null')\n",
      "('Operación AWOL-72', ' 28')\n"
     ]
    },
    {
     "name": "stderr",
     "output_type": "stream",
     "text": [
      "  2%|▏         | 16/1000 [03:55<4:03:47, 14.87s/it]"
     ]
    },
    {
     "name": "stdout",
     "output_type": "stream",
     "text": [
      "('The Red, Black and Blonde: God $ave', 'Null')\n",
      "('The Last Demon Slayer', ' 87')\n",
      "('Martinelli a Star Wars Fan Story', 'Null')\n",
      "('2 Duros de Roer', ' 44')\n",
      "('Robin Hood', ' 14')\n",
      "('Xzee vs OTTWitt', 'Null')\n",
      "('Chhadke 2.0', ' 55')\n",
      "('Payphone', ' 72')\n",
      "('Cult Wars: Episode III - Sith Hits the Fan', ' 79')\n",
      "('La pièce rapportée', ' 58')\n",
      "('Babbar', 'Null')\n",
      "('La vicina', ' 56')\n",
      "('Lurk', 'Null')\n",
      "('Projekt Adler - Ein letzter Job', 'Null')\n",
      "('Operación AWOL-72', ' 28')\n",
      "('The Borrower', ' 30')\n"
     ]
    },
    {
     "name": "stderr",
     "output_type": "stream",
     "text": [
      "  2%|▏         | 17/1000 [04:10<4:02:22, 14.79s/it]"
     ]
    },
    {
     "name": "stdout",
     "output_type": "stream",
     "text": [
      "('The Red, Black and Blonde: God $ave', 'Null')\n",
      "('The Last Demon Slayer', ' 87')\n",
      "('Martinelli a Star Wars Fan Story', 'Null')\n",
      "('2 Duros de Roer', ' 44')\n",
      "('Robin Hood', ' 14')\n",
      "('Xzee vs OTTWitt', 'Null')\n",
      "('Chhadke 2.0', ' 55')\n",
      "('Payphone', ' 72')\n",
      "('Cult Wars: Episode III - Sith Hits the Fan', ' 79')\n",
      "('La pièce rapportée', ' 58')\n",
      "('Babbar', 'Null')\n",
      "('La vicina', ' 56')\n",
      "('Lurk', 'Null')\n",
      "('Projekt Adler - Ein letzter Job', 'Null')\n",
      "('Operación AWOL-72', ' 28')\n",
      "('The Borrower', ' 30')\n",
      "('I Was Being Sarcastic', 'Null')\n"
     ]
    },
    {
     "name": "stderr",
     "output_type": "stream",
     "text": [
      "  2%|▏         | 18/1000 [04:24<4:00:16, 14.68s/it]"
     ]
    },
    {
     "name": "stdout",
     "output_type": "stream",
     "text": [
      "('The Red, Black and Blonde: God $ave', 'Null')\n",
      "('The Last Demon Slayer', ' 87')\n",
      "('Martinelli a Star Wars Fan Story', 'Null')\n",
      "('2 Duros de Roer', ' 44')\n",
      "('Robin Hood', ' 14')\n",
      "('Xzee vs OTTWitt', 'Null')\n",
      "('Chhadke 2.0', ' 55')\n",
      "('Payphone', ' 72')\n",
      "('Cult Wars: Episode III - Sith Hits the Fan', ' 79')\n",
      "('La pièce rapportée', ' 58')\n",
      "('Babbar', 'Null')\n",
      "('La vicina', ' 56')\n",
      "('Lurk', 'Null')\n",
      "('Projekt Adler - Ein letzter Job', 'Null')\n",
      "('Operación AWOL-72', ' 28')\n",
      "('The Borrower', ' 30')\n",
      "('I Was Being Sarcastic', 'Null')\n",
      "('Crime Story', ' 20')\n"
     ]
    },
    {
     "name": "stderr",
     "output_type": "stream",
     "text": [
      "  2%|▏         | 19/1000 [04:39<4:00:28, 14.71s/it]"
     ]
    },
    {
     "name": "stdout",
     "output_type": "stream",
     "text": [
      "('The Red, Black and Blonde: God $ave', 'Null')\n",
      "('The Last Demon Slayer', ' 87')\n",
      "('Martinelli a Star Wars Fan Story', 'Null')\n",
      "('2 Duros de Roer', ' 44')\n",
      "('Robin Hood', ' 14')\n",
      "('Xzee vs OTTWitt', 'Null')\n",
      "('Chhadke 2.0', ' 55')\n",
      "('Payphone', ' 72')\n",
      "('Cult Wars: Episode III - Sith Hits the Fan', ' 79')\n",
      "('La pièce rapportée', ' 58')\n",
      "('Babbar', 'Null')\n",
      "('La vicina', ' 56')\n",
      "('Lurk', 'Null')\n",
      "('Projekt Adler - Ein letzter Job', 'Null')\n",
      "('Operación AWOL-72', ' 28')\n",
      "('The Borrower', ' 30')\n",
      "('I Was Being Sarcastic', 'Null')\n",
      "('Crime Story', ' 20')\n",
      "('Cómo entrenar a tu dragón 2', ' 92')\n"
     ]
    },
    {
     "name": "stderr",
     "output_type": "stream",
     "text": [
      "  2%|▏         | 20/1000 [04:53<3:59:29, 14.66s/it]"
     ]
    },
    {
     "name": "stdout",
     "output_type": "stream",
     "text": [
      "('The Red, Black and Blonde: God $ave', 'Null')\n",
      "('The Last Demon Slayer', ' 87')\n",
      "('Martinelli a Star Wars Fan Story', 'Null')\n",
      "('2 Duros de Roer', ' 44')\n",
      "('Robin Hood', ' 14')\n",
      "('Xzee vs OTTWitt', 'Null')\n",
      "('Chhadke 2.0', ' 55')\n",
      "('Payphone', ' 72')\n",
      "('Cult Wars: Episode III - Sith Hits the Fan', ' 79')\n",
      "('La pièce rapportée', ' 58')\n",
      "('Babbar', 'Null')\n",
      "('La vicina', ' 56')\n",
      "('Lurk', 'Null')\n",
      "('Projekt Adler - Ein letzter Job', 'Null')\n",
      "('Operación AWOL-72', ' 28')\n",
      "('The Borrower', ' 30')\n",
      "('I Was Being Sarcastic', 'Null')\n",
      "('Crime Story', ' 20')\n",
      "('Cómo entrenar a tu dragón 2', ' 92')\n",
      "('Fatal instinct (Por instinto)', ' 17')\n"
     ]
    },
    {
     "name": "stderr",
     "output_type": "stream",
     "text": [
      "  2%|▏         | 21/1000 [05:09<4:05:12, 15.03s/it]"
     ]
    },
    {
     "name": "stdout",
     "output_type": "stream",
     "text": [
      "('The Red, Black and Blonde: God $ave', 'Null')\n",
      "('The Last Demon Slayer', ' 87')\n",
      "('Martinelli a Star Wars Fan Story', 'Null')\n",
      "('2 Duros de Roer', ' 44')\n",
      "('Robin Hood', ' 14')\n",
      "('Xzee vs OTTWitt', 'Null')\n",
      "('Chhadke 2.0', ' 55')\n",
      "('Payphone', ' 72')\n",
      "('Cult Wars: Episode III - Sith Hits the Fan', ' 79')\n",
      "('La pièce rapportée', ' 58')\n",
      "('Babbar', 'Null')\n",
      "('La vicina', ' 56')\n",
      "('Lurk', 'Null')\n",
      "('Projekt Adler - Ein letzter Job', 'Null')\n",
      "('Operación AWOL-72', ' 28')\n",
      "('The Borrower', ' 30')\n",
      "('I Was Being Sarcastic', 'Null')\n",
      "('Crime Story', ' 20')\n",
      "('Cómo entrenar a tu dragón 2', ' 92')\n",
      "('Fatal instinct (Por instinto)', ' 17')\n",
      "('Gary Screams for You', 'Null')\n"
     ]
    }
   ],
   "source": [
    "tomatometer(list_Titles)"
   ]
  }
 ],
 "metadata": {
  "kernelspec": {
   "display_name": "Python 3",
   "language": "python",
   "name": "python3"
  },
  "language_info": {
   "codemirror_mode": {
    "name": "ipython",
    "version": 3
   },
   "file_extension": ".py",
   "mimetype": "text/x-python",
   "name": "python",
   "nbconvert_exporter": "python",
   "pygments_lexer": "ipython3",
   "version": "3.9.13"
  }
 },
 "nbformat": 4,
 "nbformat_minor": 2
}
