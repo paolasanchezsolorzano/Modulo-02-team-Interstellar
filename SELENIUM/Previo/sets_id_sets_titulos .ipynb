{
 "cells": [
  {
   "cell_type": "code",
   "execution_count": 1,
   "metadata": {},
   "outputs": [],
   "source": [
    "#  Importar librerías para tratamiento de datos\n",
    "# -----------------------------------------------------------------------\n",
    "import pandas as pd  # Pandas es una poderosa librería para manipulación y análisis de datos en Python.\n",
    "\n",
    "# Importar librerías para web scraping y manipulación de datos\n",
    "# -----------------------------------------------------------------------\n",
    "from bs4 import BeautifulSoup\n",
    "import requests\n",
    "\n",
    "# Importar librerías para automatización de navegadores web con Selenium\n",
    "# -----------------------------------------------------------------------\n",
    "from selenium import webdriver  # Selenium es una herramienta para automatizar la interacción con navegadores web.\n",
    "from webdriver_manager.chrome import ChromeDriverManager  # ChromeDriverManager gestiona la instalación del controlador de Chrome.\n",
    "from selenium.webdriver.common.keys import Keys  # Keys es útil para simular eventos de teclado en Selenium.\n",
    "from selenium.webdriver.support.ui import Select  # Select se utiliza para interactuar con elementos <select> en páginas web.\n",
    "from selenium.webdriver.common.by import By\n",
    "# Importar librerías para pausar la ejecución\n",
    "# -----------------------------------------------------------------------\n",
    "from time import sleep  # Sleep se utiliza para pausar la ejecución del programa por un número de segundos.\n",
    "from tqdm import tqdm, trange\n",
    "import re\n",
    "# Configuraciones\n",
    "# -----------------------------------------------------------------------\n",
    "pd.set_option('display.max_columns', None)  # Establece una opción de Pandas para mostrar todas las columnas de un DataFrame."
   ]
  },
  {
   "cell_type": "code",
   "execution_count": 4,
   "metadata": {},
   "outputs": [],
   "source": [
    "#esto cambia segun la ruta donde este guardado el csv\n",
    "\n",
    "datos_accion_csv =pd.read_csv(r\"C:\\Users\\Jordy_000\\Desktop\\ADALAB\\Ejercicios_clases(pair,invertidas,exam)\\modulo-2\\proyecto\\API\\CSVs\\Películas_['Action']_2010-2024.csv\") \n",
    "datos_drama_cvs = pd.read_csv(r\"C:\\Users\\Jordy_000\\Desktop\\ADALAB\\Ejercicios_clases(pair,invertidas,exam)\\modulo-2\\proyecto\\API\\CSVs\\Películas_['Drama']_2010-2025.csv\")\n",
    "datos_comedia_cvs = pd.read_csv(r\"C:\\Users\\Jordy_000\\Desktop\\ADALAB\\Ejercicios_clases(pair,invertidas,exam)\\modulo-2\\proyecto\\API\\CSVs\\Películas_['Comedy']_2010-2025.csv\")"
   ]
  },
  {
   "cell_type": "code",
   "execution_count": 6,
   "metadata": {},
   "outputs": [
    {
     "name": "stdout",
     "output_type": "stream",
     "text": [
      "Index(['Tipo', 'Género', 'Título', 'Mes', 'Año', 'ID_IMDB'], dtype='object')\n"
     ]
    }
   ],
   "source": [
    "# Quiero ver las columnas del csv para buscar la columna de ID\n",
    "\n",
    "print(datos_accion_csv.columns)"
   ]
  },
  {
   "cell_type": "code",
   "execution_count": 7,
   "metadata": {},
   "outputs": [],
   "source": [
    "id_accion = datos_accion_csv[\"ID_IMDB\"]\n",
    "id_drama = datos_drama_cvs[\"ID_IMDB\"]\n",
    "id_comedia = datos_comedia_cvs[\"ID_IMDB\"]"
   ]
  },
  {
   "cell_type": "code",
   "execution_count": 8,
   "metadata": {},
   "outputs": [],
   "source": [
    "#convierto en listas\n",
    "\n",
    "lista_id_accion = id_accion.to_list()\n",
    "lista_id_comedia = id_comedia.to_list()\n",
    "lista_id_drama = id_drama.to_list()"
   ]
  },
  {
   "cell_type": "code",
   "execution_count": 9,
   "metadata": {},
   "outputs": [],
   "source": [
    "#  todos los id en una lista\n",
    "\n",
    "union_listas_id =[]\n",
    "union_listas_id.extend(lista_id_accion)\n",
    "union_listas_id.extend(lista_id_comedia)\n",
    "union_listas_id.extend(lista_id_drama)"
   ]
  },
  {
   "cell_type": "code",
   "execution_count": 10,
   "metadata": {},
   "outputs": [
    {
     "data": {
      "text/plain": [
       "15688"
      ]
     },
     "execution_count": 10,
     "metadata": {},
     "output_type": "execute_result"
    }
   ],
   "source": [
    "# cuento numero de elementos en la lista\n",
    "len(union_listas_id)"
   ]
  },
  {
   "cell_type": "code",
   "execution_count": 11,
   "metadata": {},
   "outputs": [
    {
     "data": {
      "text/plain": [
       "14544"
      ]
     },
     "execution_count": 11,
     "metadata": {},
     "output_type": "execute_result"
    }
   ],
   "source": [
    "# elimino id duplicados convirtiendo en set\n",
    "\n",
    "lista_id_set = set(union_listas_id)\n",
    "len(lista_id_set)"
   ]
  },
  {
   "cell_type": "code",
   "execution_count": 12,
   "metadata": {},
   "outputs": [
    {
     "data": {
      "text/plain": [
       "14544"
      ]
     },
     "execution_count": 12,
     "metadata": {},
     "output_type": "execute_result"
    }
   ],
   "source": [
    "#lo convierto en lista\n",
    "\n",
    "lista_id = list(lista_id_set)\n",
    "len(lista_id)"
   ]
  },
  {
   "cell_type": "markdown",
   "metadata": {},
   "source": [
    "## Esto para titulos (TOMATOS)"
   ]
  },
  {
   "cell_type": "code",
   "execution_count": 13,
   "metadata": {},
   "outputs": [],
   "source": [
    "Titulos_accion = datos_accion_csv[\"Título\"] \n",
    "Titulos_drama = datos_drama_cvs[\"Título\"]\n",
    "Titulos_comedia = datos_comedia_cvs[\"Título\"]"
   ]
  },
  {
   "cell_type": "code",
   "execution_count": 14,
   "metadata": {},
   "outputs": [],
   "source": [
    "#convierto en listas\n",
    "\n",
    "lista_titulo_accion = Titulos_accion.to_list()\n",
    "lista_titulo_comedia = Titulos_comedia.to_list()\n",
    "lista_titulo_drama = Titulos_drama.to_list()"
   ]
  },
  {
   "cell_type": "code",
   "execution_count": 15,
   "metadata": {},
   "outputs": [],
   "source": [
    "\n",
    "#  todos los titulos en una lista\n",
    "\n",
    "union_listas_titulos =[]\n",
    "union_listas_titulos.extend(lista_titulo_accion)\n",
    "union_listas_titulos.extend(lista_titulo_comedia)\n",
    "union_listas_titulos.extend(lista_titulo_drama)"
   ]
  },
  {
   "cell_type": "code",
   "execution_count": 16,
   "metadata": {},
   "outputs": [
    {
     "data": {
      "text/plain": [
       "15688"
      ]
     },
     "execution_count": 16,
     "metadata": {},
     "output_type": "execute_result"
    }
   ],
   "source": [
    "len(union_listas_titulos)"
   ]
  },
  {
   "cell_type": "code",
   "execution_count": 17,
   "metadata": {},
   "outputs": [
    {
     "data": {
      "text/plain": [
       "14135"
      ]
     },
     "execution_count": 17,
     "metadata": {},
     "output_type": "execute_result"
    }
   ],
   "source": [
    "# elimino duplicados \n",
    "\n",
    "lista_titulos_set = set(union_listas_titulos)\n",
    "len(lista_titulos_set)"
   ]
  },
  {
   "cell_type": "code",
   "execution_count": 18,
   "metadata": {},
   "outputs": [
    {
     "data": {
      "text/plain": [
       "14135"
      ]
     },
     "execution_count": 18,
     "metadata": {},
     "output_type": "execute_result"
    }
   ],
   "source": [
    "#lo convierto en lista NUEVAMENTE \n",
    "\n",
    "lista_Titulos = list(lista_titulos_set)\n",
    "len(lista_titulos_set)"
   ]
  },
  {
   "cell_type": "code",
   "execution_count": 23,
   "metadata": {},
   "outputs": [],
   "source": [
    "lista_10_titulos = lista_Titulos[0:10]"
   ]
  },
  {
   "cell_type": "code",
   "execution_count": 25,
   "metadata": {},
   "outputs": [
    {
     "data": {
      "text/plain": [
       "['Road to Red',\n",
       " 'This is Cinema',\n",
       " 'Chief Gunner',\n",
       " 'The Infiltration Ordeal',\n",
       " 'Strike Three',\n",
       " 'The Wylds',\n",
       " 'Make Up',\n",
       " 'Jolt',\n",
       " 'Darah Garuda',\n",
       " 'Sin pulso']"
      ]
     },
     "execution_count": 25,
     "metadata": {},
     "output_type": "execute_result"
    }
   ],
   "source": [
    "lista_10_titulos"
   ]
  }
 ],
 "metadata": {
  "kernelspec": {
   "display_name": "Python 3",
   "language": "python",
   "name": "python3"
  },
  "language_info": {
   "codemirror_mode": {
    "name": "ipython",
    "version": 3
   },
   "file_extension": ".py",
   "mimetype": "text/x-python",
   "name": "python",
   "nbconvert_exporter": "python",
   "pygments_lexer": "ipython3",
   "version": "3.9.13"
  }
 },
 "nbformat": 4,
 "nbformat_minor": 2
}
